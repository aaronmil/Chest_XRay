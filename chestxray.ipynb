{
 "cells": [
  {
   "cell_type": "markdown",
   "metadata": {},
   "source": [
    "# Chest X-Ray Image Classification Using Tranfer Learning"
   ]
  },
  {
   "cell_type": "markdown",
   "metadata": {},
   "source": [
    "## Preliminary"
   ]
  },
  {
   "cell_type": "markdown",
   "metadata": {},
   "source": [
    "The objective of this project is to classify images of chest x-rays into three classes: Normal, COVID-19, and Pneumonia. Classification was performed using transfer learning by implementing the Inception V3, ResNet 101 V2, and MobileNet V2 architectures.\n",
    "\n",
    "A practical use of these models would be for medical clinicians to analyze chest x-rays to diagnose Pneumonia or COVID-19. As such, we would want a model that errs on the side of having more false positives than false negatives. You would not want a situation where a clinician indicates there is no illness when indeed there is one. Such could cause the clinician to refuse to prescribe treatment when treatment is needed. On the other hand, a false-positive diagnosis has less risks associated with it. Therefore preference will be given to models that minimize false negatives."
   ]
  },
  {
   "cell_type": "markdown",
   "metadata": {},
   "source": [
    "The image data was  pulled from multiple sources and compiled by Kaggle user, JPTIPTJ. <br>\n",
    "https://www.kaggle.com/datasets/jtiptj/chest-xray-pneumoniacovid19tuberculosis"
   ]
  },
  {
   "cell_type": "markdown",
   "metadata": {},
   "source": [
    "The data provided from the source above also included chest x-rays for a TUBERCULOSIS class. The TUBERCULOSIS images had far more distortions and inconsistencies than the images for the other classes. The below images show examples of the PNEUMONIA data and the TUBERCULOSIS data. The PNEUMONIA image is close to black and white and shows a great amount of detail. The TUBERCULOSIS data, on the other hand, has inconsistencies with cropping, with contrast, and with color balance. Most concerning, however, is that most images in this class have white boxes in diverse locations. This strongly biases the data in that a model may simply learn to classify any image with a white box as TUBERCULOSIS without learning the nuances of the x-ray itself.\n",
    "\n",
    "![TB_ISSUE](tb_issue.png)"
   ]
  },
  {
   "cell_type": "markdown",
   "metadata": {},
   "source": [
    "### Import Libraries"
   ]
  },
  {
   "cell_type": "code",
   "execution_count": 1,
   "metadata": {},
   "outputs": [],
   "source": [
    "import numpy as np\n",
    "import matplotlib.pyplot as plt\n",
    "import pandas as pd\n",
    "import seaborn as sns"
   ]
  },
  {
   "cell_type": "code",
   "execution_count": 2,
   "metadata": {},
   "outputs": [],
   "source": [
    "from sklearn.utils.class_weight import compute_class_weight\n",
    "from sklearn.metrics import confusion_matrix"
   ]
  },
  {
   "cell_type": "code",
   "execution_count": 3,
   "metadata": {},
   "outputs": [],
   "source": [
    "import tensorflow.keras.backend as K\n",
    "from tensorflow.keras.preprocessing.image import img_to_array, load_img, ImageDataGenerator\n",
    "from tensorflow.keras import Input, Model, initializers\n",
    "from tensorflow.keras.layers import GlobalAveragePooling2D, Dense, Dropout, Flatten\n",
    "from tensorflow.keras.optimizers import Adam\n",
    "from tensorflow.keras.callbacks import EarlyStopping, CSVLogger\n",
    "from tensorflow.keras.models import save_model, load_model\n",
    "from tensorflow.keras.applications.inception_v3 import InceptionV3, preprocess_input as preprocess_input_Inc\n",
    "from tensorflow.keras.applications.mobilenet_v2 import MobileNetV2, preprocess_input as MN_preprocess\n",
    "from tensorflow.keras.applications.resnet_v2 import ResNet101V2, preprocess_input as ResNet_preprocess\n",
    "from tensorflow.image import crop_and_resize"
   ]
  },
  {
   "cell_type": "markdown",
   "metadata": {},
   "source": [
    "### Define Functions"
   ]
  },
  {
   "cell_type": "code",
   "execution_count": 4,
   "metadata": {},
   "outputs": [],
   "source": [
    "seed=531"
   ]
  },
  {
   "cell_type": "code",
   "execution_count": 5,
   "metadata": {},
   "outputs": [],
   "source": [
    "#Early Stopping with Patience=3\n",
    "earlystop = EarlyStopping(monitor='val_loss', patience=3, verbose=1, restore_best_weights=True)\n",
    "\n",
    "#Early Stopping with Patience=5\n",
    "earlystop_5 = EarlyStopping(monitor='val_loss', patience=5, verbose=1, restore_best_weights=True)"
   ]
  },
  {
   "cell_type": "code",
   "execution_count": 6,
   "metadata": {},
   "outputs": [],
   "source": [
    "#F1 score\n",
    "def f1(y_true, y_pred): \n",
    "    true_positives = K.sum(K.round(K.clip(y_true * y_pred, 0, 1)))\n",
    "    possible_positives = K.sum(K.round(K.clip(y_true, 0, 1)))\n",
    "    predicted_positives = K.sum(K.round(K.clip(y_pred, 0, 1)))\n",
    "    precision = true_positives / (predicted_positives + K.epsilon())\n",
    "    recall = true_positives / (possible_positives + K.epsilon())\n",
    "    f1_val = 2*(precision*recall)/(precision+recall+K.epsilon())\n",
    "    return f1_val"
   ]
  },
  {
   "cell_type": "code",
   "execution_count": 7,
   "metadata": {},
   "outputs": [],
   "source": [
    "#Reset Weights\n",
    "def reset_weights(model):\n",
    "    for ix, layer in enumerate(model.layers):\n",
    "        if hasattr(model.layers[ix], 'kernel_initializer') and \\\n",
    "                hasattr(model.layers[ix], 'bias_initializer'):\n",
    "            weight_initializer = model.layers[ix].kernel_initializer\n",
    "            bias_initializer = model.layers[ix].bias_initializer\n",
    "\n",
    "            old_weights, old_biases = model.layers[ix].get_weights()\n",
    "\n",
    "            model.layers[ix].set_weights([\n",
    "                weight_initializer(shape=old_weights.shape),\n",
    "                bias_initializer(shape=old_biases.shape)]) "
   ]
  },
  {
   "cell_type": "code",
   "execution_count": 8,
   "metadata": {},
   "outputs": [],
   "source": [
    "#History Plot\n",
    "def history_plot(history):\n",
    "    loss = history.history['loss']\n",
    "    val_loss = history.history['val_loss']\n",
    "    plt.figure(figsize=(8, 4))\n",
    "    plt.plot(loss, label='Training Loss')\n",
    "    plt.plot(val_loss, label='Validation Loss')\n",
    "    plt.legend(loc='upper right')\n",
    "    plt.ylabel('Categorical Cross Entropy')\n",
    "    #plt.yscale('log')\n",
    "    plt.ylim(bottom=0)\n",
    "    #plt.yticks(ticks=[0,1,2,3,4,5,6], labels=[0,1,2,3,4,5,6])\n",
    "    plt.title('Training and Validation Loss')\n",
    "    plt.xlabel('epoch')\n",
    "    plt.xticks(np.arange(30))\n",
    "    plt.show()"
   ]
  },
  {
   "cell_type": "code",
   "execution_count": 9,
   "metadata": {},
   "outputs": [],
   "source": [
    "#Confusion Matix Heat Map\n",
    "def print_confusion_matrix(cls_pred):\n",
    "    cm = confusion_matrix(y_true=cls_test, y_pred=cls_pred)\n",
    "    sns.heatmap(cm, annot=True, xticklabels=class_names, yticklabels=class_names, fmt='d')\n",
    "    "
   ]
  },
  {
   "cell_type": "markdown",
   "metadata": {},
   "source": [
    "## Load Data"
   ]
  },
  {
   "cell_type": "markdown",
   "metadata": {},
   "source": [
    "### Determine Shape of Images"
   ]
  },
  {
   "cell_type": "code",
   "execution_count": 10,
   "metadata": {},
   "outputs": [
    {
     "data": {
      "text/plain": [
       "(2000, 2000, 3)"
      ]
     },
     "execution_count": 10,
     "metadata": {},
     "output_type": "execute_result"
    }
   ],
   "source": [
    "single_image = load_img('chestxraydata/train/COVID19/COVID19(0).jpg')\n",
    "single_image_arr = img_to_array(single_image)\n",
    "single_image_arr.shape"
   ]
  },
  {
   "cell_type": "markdown",
   "metadata": {},
   "source": [
    "### Load images & Augment training data"
   ]
  },
  {
   "cell_type": "markdown",
   "metadata": {},
   "source": [
    "The image data was already split into Test and Train datasets, with 730 images in Test and 5,676 images in Train. I imported the data and performed the following data augmentation:\n",
    "- Rescale the images\n",
    "    - 256x256x3 pixels for Inception and ResNet\n",
    "    - 224x224x3 pixels for MobileNet (as these specific dimensions are required by the model)\n",
    "- Random rotation of ≤ 5°\n",
    "- Random shear intensity of ≤ 5°\n",
    "- Random hight shift of ≤ 15%\n",
    "- Random width shift of ≤ 15%\n",
    "- Random zoom between 90% and 110%\n",
    "- Random brightness adjustment between 80% and 120%\n",
    "- Random horizontal flip\n",
    "- Fill mode = ‘constant’\n"
   ]
  },
  {
   "cell_type": "markdown",
   "metadata": {},
   "source": [
    "#### For Inception and ResNet\n",
    "Image size (256x256)"
   ]
  },
  {
   "cell_type": "code",
   "execution_count": 11,
   "metadata": {},
   "outputs": [
    {
     "name": "stdout",
     "output_type": "stream",
     "text": [
      "Found 5676 images belonging to 3 classes.\n",
      "Found 730 images belonging to 3 classes.\n"
     ]
    }
   ],
   "source": [
    "datagen_train = ImageDataGenerator(\n",
    "    rescale=1/255,\n",
    "    rotation_range=5,\n",
    "    shear_range=5,\n",
    "    height_shift_range=0.15,\n",
    "    width_shift_range=0.15,\n",
    "    zoom_range=[0.9, 1.1],\n",
    "    brightness_range=[0.8, 1.2],\n",
    "    fill_mode='constant',\n",
    "    horizontal_flip=True,\n",
    "    validation_split=0,\n",
    "    dtype='float32'\n",
    ")\n",
    "\n",
    "generator_train = datagen_train.flow_from_directory(\n",
    "    directory='chestxraydata/train',\n",
    "    target_size=(256,256),\n",
    "    batch_size=32, \n",
    "    color_mode='rgb',\n",
    "    class_mode='categorical',\n",
    "    shuffle=True,\n",
    "    seed=seed,\n",
    "    save_to_dir='chestxraydata/augmented_train'\n",
    ")\n",
    "\n",
    "datagen_test = ImageDataGenerator(\n",
    "    rescale=1/255,\n",
    "    validation_split=0,\n",
    "    dtype='float32'\n",
    ")\n",
    "\n",
    "generator_test = datagen_test.flow_from_directory(\n",
    "    directory='chestxraydata/test',\n",
    "    target_size=(256,256),\n",
    "    batch_size=32, \n",
    "    color_mode='rgb',\n",
    "    class_mode='categorical',\n",
    "    shuffle=False\n",
    ")"
   ]
  },
  {
   "cell_type": "code",
   "execution_count": 12,
   "metadata": {},
   "outputs": [],
   "source": [
    "cls_train = generator_train.classes\n",
    "cls_test = generator_test.classes\n",
    "class_names = list(generator_train.class_indices.keys())\n",
    "num_classes = generator_train.num_classes"
   ]
  },
  {
   "cell_type": "markdown",
   "metadata": {},
   "source": [
    "### Determine class weights for imbalanced classes"
   ]
  },
  {
   "cell_type": "markdown",
   "metadata": {},
   "source": [
    "The classes in the training data are imbalanced with 460 in the COVID19 class, 1,341 in the NORMAL class, and 3,875 in the PNEUMONIA class. Therefore, I assigned weights to the three classes respectively 4.11, 1.41, and 0.49."
   ]
  },
  {
   "cell_type": "code",
   "execution_count": 13,
   "metadata": {},
   "outputs": [
    {
     "name": "stdout",
     "output_type": "stream",
     "text": [
      "(array([0, 1, 2]), array([ 460, 1341, 3875], dtype=int64))\n",
      "(array([0, 1, 2]), array([106, 234, 390], dtype=int64))\n"
     ]
    }
   ],
   "source": [
    "print(np.unique(cls_train, return_counts=True))\n",
    "print(np.unique(cls_test, return_counts=True))"
   ]
  },
  {
   "cell_type": "code",
   "execution_count": 14,
   "metadata": {},
   "outputs": [],
   "source": [
    "class_weight = compute_class_weight(class_weight='balanced',\n",
    "                                    classes=np.unique(cls_train),\n",
    "                                    y=cls_train)\n",
    "\n",
    "class_weight=dict(zip(range(0,3),class_weight))"
   ]
  },
  {
   "cell_type": "code",
   "execution_count": 15,
   "metadata": {},
   "outputs": [
    {
     "name": "stdout",
     "output_type": "stream",
     "text": [
      "Number of Classes: 3\n",
      "Class Names: ['COVID19', 'NORMAL', 'PNEUMONIA']\n",
      "Class Weights: {0: 4.113043478260869, 1: 1.4108873974645786, 2: 0.488258064516129}\n"
     ]
    }
   ],
   "source": [
    "print(f'Number of Classes: {num_classes}')\n",
    "print(f'Class Names: {class_names}')\n",
    "print(f'Class Weights: {class_weight}')"
   ]
  },
  {
   "cell_type": "markdown",
   "metadata": {},
   "source": [
    "## Inception V3 Model"
   ]
  },
  {
   "cell_type": "markdown",
   "metadata": {},
   "source": [
    "### Base Model"
   ]
  },
  {
   "cell_type": "markdown",
   "metadata": {},
   "source": [
    "The first framework I used for transfer learning was Inception V3. I imported the “imagenet” weights for the model and set include_top to “False” as I would be adding subsequent layers to the top. For the first round of training, I froze the layers from the base model so I could train only the final layers I would be adding myself."
   ]
  },
  {
   "cell_type": "code",
   "execution_count": 16,
   "metadata": {},
   "outputs": [],
   "source": [
    "base_model_Inc = InceptionV3(\n",
    "    input_shape=(256,256,3), \n",
    "    weights='imagenet', \n",
    "    include_top=False\n",
    "    )\n",
    "\n",
    "base_model_Inc.trainable = False"
   ]
  },
  {
   "cell_type": "markdown",
   "metadata": {},
   "source": [
    "### Preprocess"
   ]
  },
  {
   "cell_type": "code",
   "execution_count": 17,
   "metadata": {},
   "outputs": [],
   "source": [
    "inputs_Inc = Input(shape=(256, 256,3))\n",
    "\n",
    "inputs_p_Inc = preprocess_input_Inc(inputs_Inc)"
   ]
  },
  {
   "cell_type": "markdown",
   "metadata": {},
   "source": [
    "### Add output layers & Compile"
   ]
  },
  {
   "cell_type": "markdown",
   "metadata": {},
   "source": [
    "Starting with the base model, I added the following layers to the end:\n",
    "- Global Average Pooling 2D - A faster, more robust method than a standard fully-connected layer\n",
    "- Dropout (set to 50%) - Used to reduce the potential for overfitting. Perhaps an unnecessary layer in this case given that Global Average Pooling already reduces overfitting.\n",
    "- Dense - Final layer using a softmax classifier\n",
    "\n",
    "To compile the model, I selected the “Adam” optimizer using the default 0.001 learning rate. The loss function used was categorical crossentropy. I also created a function to be able to track the f1 metric of each step of the model."
   ]
  },
  {
   "cell_type": "code",
   "execution_count": 18,
   "metadata": {},
   "outputs": [],
   "source": [
    "base_Inc = base_model_Inc(inputs_p_Inc, training=False)\n",
    "GAP_Inc = GlobalAveragePooling2D()(base_Inc)\n",
    "drop_Inc = Dropout(0.5)(GAP_Inc)\n",
    "\n",
    "output_Inc = Dense(num_classes, activation='softmax')(drop_Inc)\n",
    "model_Inc = Model(inputs_Inc, output_Inc)"
   ]
  },
  {
   "cell_type": "code",
   "execution_count": 19,
   "metadata": {},
   "outputs": [],
   "source": [
    "model_Inc.compile(loss='categorical_crossentropy',\n",
    "                optimizer='adam',\n",
    "                metrics=[f1])"
   ]
  },
  {
   "cell_type": "markdown",
   "metadata": {},
   "source": [
    "The model summary below indicates there are 21,802,784 parameters in the base Inception V3 model, and 6,147 trainable parameters in the final layer."
   ]
  },
  {
   "cell_type": "code",
   "execution_count": 20,
   "metadata": {},
   "outputs": [
    {
     "name": "stdout",
     "output_type": "stream",
     "text": [
      "Model: \"functional_1\"\n",
      "_________________________________________________________________\n",
      "Layer (type)                 Output Shape              Param #   \n",
      "=================================================================\n",
      "input_2 (InputLayer)         [(None, 256, 256, 3)]     0         \n",
      "_________________________________________________________________\n",
      "tf_op_layer_RealDiv (TensorF [(None, 256, 256, 3)]     0         \n",
      "_________________________________________________________________\n",
      "tf_op_layer_Sub (TensorFlowO [(None, 256, 256, 3)]     0         \n",
      "_________________________________________________________________\n",
      "inception_v3 (Functional)    (None, 6, 6, 2048)        21802784  \n",
      "_________________________________________________________________\n",
      "global_average_pooling2d (Gl (None, 2048)              0         \n",
      "_________________________________________________________________\n",
      "dropout (Dropout)            (None, 2048)              0         \n",
      "_________________________________________________________________\n",
      "dense (Dense)                (None, 3)                 6147      \n",
      "=================================================================\n",
      "Total params: 21,808,931\n",
      "Trainable params: 6,147\n",
      "Non-trainable params: 21,802,784\n",
      "_________________________________________________________________\n"
     ]
    }
   ],
   "source": [
    "model_Inc.summary()"
   ]
  },
  {
   "cell_type": "markdown",
   "metadata": {},
   "source": [
    "### Fit model"
   ]
  },
  {
   "cell_type": "markdown",
   "metadata": {},
   "source": [
    "#### Fit"
   ]
  },
  {
   "cell_type": "code",
   "execution_count": 88,
   "metadata": {},
   "outputs": [],
   "source": [
    "#reset_weights(model_Inc)"
   ]
  },
  {
   "cell_type": "code",
   "execution_count": 21,
   "metadata": {},
   "outputs": [],
   "source": [
    "csv_log_Inc = CSVLogger('training_Inc.log', separator=',', append=False)"
   ]
  },
  {
   "cell_type": "markdown",
   "metadata": {},
   "source": [
    "I fit the model for 30 epochs and a batch size of 128. I also established an early stopping trigger when the validation loss function does not improve after five epochs. If early stopping is triggered, the model will use the weights from the epoch with the lowest validation loss. Once fitting was complete, this model achieved a validation loss of 0.5618 and a validation f1 score of 0.8046."
   ]
  },
  {
   "cell_type": "code",
   "execution_count": 25,
   "metadata": {},
   "outputs": [
    {
     "name": "stdout",
     "output_type": "stream",
     "text": [
      "Epoch 1/30\n",
      "178/178 [==============================] - 656s 4s/step - loss: 1.0133 - f1: 0.1687 - val_loss: 0.8850 - val_f1: 0.2103\n",
      "Epoch 2/30\n",
      "178/178 [==============================] - 728s 4s/step - loss: 0.9007 - f1: 0.3209 - val_loss: 0.8497 - val_f1: 0.4487\n",
      "Epoch 3/30\n",
      "178/178 [==============================] - 700s 4s/step - loss: 0.8454 - f1: 0.4061 - val_loss: 0.7739 - val_f1: 0.6428\n",
      "Epoch 4/30\n",
      "178/178 [==============================] - 693s 4s/step - loss: 0.7927 - f1: 0.4573 - val_loss: 0.7449 - val_f1: 0.6656\n",
      "Epoch 5/30\n",
      "178/178 [==============================] - 738s 4s/step - loss: 0.7874 - f1: 0.4677 - val_loss: 0.7146 - val_f1: 0.6845\n",
      "Epoch 6/30\n",
      "178/178 [==============================] - 761s 4s/step - loss: 0.7678 - f1: 0.5107 - val_loss: 0.7962 - val_f1: 0.4634\n",
      "Epoch 7/30\n",
      "178/178 [==============================] - 753s 4s/step - loss: 0.7614 - f1: 0.5156 - val_loss: 0.6652 - val_f1: 0.7010\n",
      "Epoch 8/30\n",
      "178/178 [==============================] - 747s 4s/step - loss: 0.7485 - f1: 0.5452 - val_loss: 0.7531 - val_f1: 0.6183\n",
      "Epoch 9/30\n",
      "178/178 [==============================] - 729s 4s/step - loss: 0.7378 - f1: 0.5579 - val_loss: 0.6656 - val_f1: 0.7684\n",
      "Epoch 10/30\n",
      "178/178 [==============================] - 774s 4s/step - loss: 0.7153 - f1: 0.5754 - val_loss: 0.6734 - val_f1: 0.7643\n",
      "Epoch 11/30\n",
      "178/178 [==============================] - 747s 4s/step - loss: 0.7171 - f1: 0.5891 - val_loss: 0.6449 - val_f1: 0.7809\n",
      "Epoch 12/30\n",
      "178/178 [==============================] - 739s 4s/step - loss: 0.6966 - f1: 0.5950 - val_loss: 0.6090 - val_f1: 0.7560\n",
      "Epoch 13/30\n",
      "178/178 [==============================] - 737s 4s/step - loss: 0.6997 - f1: 0.6022 - val_loss: 0.7113 - val_f1: 0.6709\n",
      "Epoch 14/30\n",
      "178/178 [==============================] - 730s 4s/step - loss: 0.6883 - f1: 0.6131 - val_loss: 0.6345 - val_f1: 0.7783\n",
      "Epoch 15/30\n",
      "178/178 [==============================] - 853s 5s/step - loss: 0.6899 - f1: 0.5895 - val_loss: 0.6332 - val_f1: 0.7797\n",
      "Epoch 16/30\n",
      "178/178 [==============================] - 737s 4s/step - loss: 0.6772 - f1: 0.6250 - val_loss: 0.6072 - val_f1: 0.7949\n",
      "Epoch 17/30\n",
      "178/178 [==============================] - 720s 4s/step - loss: 0.6764 - f1: 0.6246 - val_loss: 0.6178 - val_f1: 0.7852\n",
      "Epoch 18/30\n",
      "178/178 [==============================] - 706s 4s/step - loss: 0.6757 - f1: 0.6166 - val_loss: 0.5931 - val_f1: 0.7903\n",
      "Epoch 19/30\n",
      "178/178 [==============================] - 725s 4s/step - loss: 0.6775 - f1: 0.6199 - val_loss: 0.5869 - val_f1: 0.7893\n",
      "Epoch 20/30\n",
      "178/178 [==============================] - 764s 4s/step - loss: 0.6690 - f1: 0.6254 - val_loss: 0.6028 - val_f1: 0.7932\n",
      "Epoch 21/30\n",
      "178/178 [==============================] - 725s 4s/step - loss: 0.6567 - f1: 0.6388 - val_loss: 0.6208 - val_f1: 0.7659\n",
      "Epoch 22/30\n",
      "178/178 [==============================] - 723s 4s/step - loss: 0.7021 - f1: 0.6082 - val_loss: 0.5749 - val_f1: 0.7992\n",
      "Epoch 23/30\n",
      "178/178 [==============================] - 735s 4s/step - loss: 0.6680 - f1: 0.6292 - val_loss: 0.5587 - val_f1: 0.7986\n",
      "Epoch 24/30\n",
      "178/178 [==============================] - 761s 4s/step - loss: 0.6663 - f1: 0.6270 - val_loss: 0.5687 - val_f1: 0.8041\n",
      "Epoch 25/30\n",
      "178/178 [==============================] - 768s 4s/step - loss: 0.6562 - f1: 0.6439 - val_loss: 0.5636 - val_f1: 0.8001\n",
      "Epoch 26/30\n",
      "178/178 [==============================] - 726s 4s/step - loss: 0.6533 - f1: 0.6470 - val_loss: 0.5592 - val_f1: 0.8053\n",
      "Epoch 27/30\n",
      "178/178 [==============================] - 789s 4s/step - loss: 0.6324 - f1: 0.6504 - val_loss: 0.5589 - val_f1: 0.7996\n",
      "Epoch 28/30\n",
      "178/178 [==============================] - 769s 4s/step - loss: 0.6478 - f1: 0.6418 - val_loss: 0.5434 - val_f1: 0.8044\n",
      "Epoch 29/30\n",
      "178/178 [==============================] - 783s 4s/step - loss: 0.6369 - f1: 0.6466 - val_loss: 0.5793 - val_f1: 0.7888\n",
      "Epoch 30/30\n",
      "178/178 [==============================] - 761s 4s/step - loss: 0.6270 - f1: 0.6563 - val_loss: 0.5538 - val_f1: 0.8063\n"
     ]
    }
   ],
   "source": [
    "model_Inc_history = model_Inc.fit(\n",
    "    generator_train, \n",
    "    epochs=30, \n",
    "    batch_size=128,\n",
    "    class_weight=class_weight, \n",
    "    validation_data=generator_test,\n",
    "    callbacks=[earlystop_5, csv_log_Inc], \n",
    "    verbose=1)"
   ]
  },
  {
   "cell_type": "code",
   "execution_count": 26,
   "metadata": {},
   "outputs": [
    {
     "name": "stdout",
     "output_type": "stream",
     "text": [
      "WARNING:tensorflow:From c:\\Users\\14126\\anaconda3\\lib\\site-packages\\tensorflow\\python\\training\\tracking\\tracking.py:111: Model.state_updates (from tensorflow.python.keras.engine.training) is deprecated and will be removed in a future version.\n",
      "Instructions for updating:\n",
      "This property should not be used in TensorFlow 2.0, as updates are applied automatically.\n",
      "WARNING:tensorflow:From c:\\Users\\14126\\anaconda3\\lib\\site-packages\\tensorflow\\python\\training\\tracking\\tracking.py:111: Layer.updates (from tensorflow.python.keras.engine.base_layer) is deprecated and will be removed in a future version.\n",
      "Instructions for updating:\n",
      "This property should not be used in TensorFlow 2.0, as updates are applied automatically.\n",
      "INFO:tensorflow:Assets written to: tmp/saved_models/Inception_1\\assets\n"
     ]
    }
   ],
   "source": [
    "model_Inc.save('tmp/saved_models/Inception_1')"
   ]
  },
  {
   "cell_type": "code",
   "execution_count": 22,
   "metadata": {},
   "outputs": [],
   "source": [
    "model_Inc = load_model('tmp/saved_models/Inception_1', custom_objects={'f1':f1})"
   ]
  },
  {
   "cell_type": "markdown",
   "metadata": {},
   "source": [
    "#### Plots"
   ]
  },
  {
   "cell_type": "markdown",
   "metadata": {},
   "source": [
    "The plot below shows the training and validation loss over the 30 epochs. The plot indicates that training continued to improve throughout, though it flattened out in the end. It is worth noting that the training loss was consistently higher than the validation. This could potentially be due to the fact that the model was more challenged by the training data (where the images were augmented as detailed above) than it was by the test data where no augmentation was applied."
   ]
  },
  {
   "cell_type": "code",
   "execution_count": 29,
   "metadata": {},
   "outputs": [
    {
     "data": {
      "image/png": "[encoded data removed]",
      "text/plain": [
       "<Figure size 576x288 with 1 Axes>"
      ]
     },
     "metadata": {
      "needs_background": "light"
     },
     "output_type": "display_data"
    }
   ],
   "source": [
    "history_plot(model_Inc_history)"
   ]
  },
  {
   "cell_type": "code",
   "execution_count": 30,
   "metadata": {},
   "outputs": [],
   "source": [
    "y_pred_Inc = model_Inc.predict(generator_test)\n",
    "cls_pred_Inc = np.argmax(y_pred_Inc,axis=1)"
   ]
  },
  {
   "cell_type": "code",
   "execution_count": 31,
   "metadata": {},
   "outputs": [
    {
     "data": {
      "image/png": "[encoded data removed]",
      "text/plain": [
       "<Figure size 432x288 with 2 Axes>"
      ]
     },
     "metadata": {
      "needs_background": "light"
     },
     "output_type": "display_data"
    }
   ],
   "source": [
    "print_confusion_matrix(cls_pred_Inc)"
   ]
  },
  {
   "cell_type": "markdown",
   "metadata": {},
   "source": [
    "### Fine-Tune Model"
   ]
  },
  {
   "cell_type": "markdown",
   "metadata": {},
   "source": [
    "The next step was to fine-tune the model. I did so by unfreezing the layers of the base model. In addition I reduced the learning rate for the optimizer to ${10^{-5}}$."
   ]
  },
  {
   "cell_type": "markdown",
   "metadata": {},
   "source": [
    "#### Make Trainable"
   ]
  },
  {
   "cell_type": "code",
   "execution_count": 32,
   "metadata": {},
   "outputs": [],
   "source": [
    "base_model_Inc.trainable = True\n",
    "\n",
    "model_Inc_FT = model_Inc\n",
    "\n",
    "model_Inc_FT.compile(loss='categorical_crossentropy',\n",
    "                optimizer=Adam(1e-5),\n",
    "                metrics=[f1])"
   ]
  },
  {
   "cell_type": "markdown",
   "metadata": {},
   "source": [
    "#### Fit"
   ]
  },
  {
   "cell_type": "markdown",
   "metadata": {},
   "source": [
    "The validation data stopped improving after epoch 7, therefore the early stopping was triggered after epoch 12. Because early stopping was triggered, the model reverted the weights back to those from the step in the training which had the lowest validation loss. This best validation loss is 0.3468, and its corresponding f1 score is 0.8569."
   ]
  },
  {
   "cell_type": "code",
   "execution_count": 261,
   "metadata": {},
   "outputs": [
    {
     "name": "stdout",
     "output_type": "stream",
     "text": [
      "Epoch 1/30\n",
      "178/178 [==============================] - 4033s 23s/step - loss: 0.7301 - f1: 0.5652 - val_loss: 0.5848 - val_f1: 0.7608\n",
      "Epoch 2/30\n",
      "178/178 [==============================] - 3919s 22s/step - loss: 0.4611 - f1: 0.7611 - val_loss: 0.5729 - val_f1: 0.7329\n",
      "Epoch 3/30\n",
      "178/178 [==============================] - 3984s 22s/step - loss: 0.4191 - f1: 0.7762 - val_loss: 0.3779 - val_f1: 0.8559\n",
      "Epoch 4/30\n",
      "178/178 [==============================] - 3702s 21s/step - loss: 0.3271 - f1: 0.8378 - val_loss: 0.3595 - val_f1: 0.8445\n",
      "Epoch 5/30\n",
      "178/178 [==============================] - 3589s 20s/step - loss: 0.2915 - f1: 0.8622 - val_loss: 0.5145 - val_f1: 0.8118\n",
      "Epoch 6/30\n",
      "178/178 [==============================] - 3817s 21s/step - loss: 0.2954 - f1: 0.8544 - val_loss: 0.4260 - val_f1: 0.8431\n",
      "Epoch 7/30\n",
      "178/178 [==============================] - 3848s 22s/step - loss: 0.2720 - f1: 0.8571 - val_loss: 0.4194 - val_f1: 0.8327\n",
      "Epoch 8/30\n",
      "178/178 [==============================] - 3807s 21s/step - loss: 0.2632 - f1: 0.8786 - val_loss: 0.3468 - val_f1: 0.8569\n",
      "Epoch 9/30\n",
      "178/178 [==============================] - 3713s 21s/step - loss: 0.2396 - f1: 0.8827 - val_loss: 0.5248 - val_f1: 0.8154\n",
      "Epoch 10/30\n",
      "178/178 [==============================] - 3650s 21s/step - loss: 0.2310 - f1: 0.8918 - val_loss: 0.5950 - val_f1: 0.8141\n",
      "Epoch 11/30\n",
      "178/178 [==============================] - 3758s 21s/step - loss: 0.2245 - f1: 0.8953 - val_loss: 0.4457 - val_f1: 0.8487\n",
      "Epoch 12/30\n",
      "178/178 [==============================] - 3666s 21s/step - loss: 0.2129 - f1: 0.8959 - val_loss: 0.4153 - val_f1: 0.8550\n",
      "Epoch 13/30\n",
      "178/178 [==============================] - ETA: 0s - loss: 0.2057 - f1: 0.8965 Restoring model weights from the end of the best epoch.\n",
      "178/178 [==============================] - 4245s 24s/step - loss: 0.2057 - f1: 0.8965 - val_loss: 0.4086 - val_f1: 0.8654\n",
      "Epoch 00013: early stopping\n"
     ]
    }
   ],
   "source": [
    "model_Inc_FT_history = model_Inc_FT.fit(\n",
    "    generator_train, \n",
    "    epochs=30, \n",
    "    batch_size=128,\n",
    "    class_weight=class_weight, \n",
    "    validation_data=generator_test,\n",
    "    callbacks=[earlystop_5],\n",
    "    verbose=1)"
   ]
  },
  {
   "cell_type": "code",
   "execution_count": 262,
   "metadata": {},
   "outputs": [
    {
     "name": "stdout",
     "output_type": "stream",
     "text": [
      "INFO:tensorflow:Assets written to: tmp/saved_models/Inception_1_FT\\assets\n"
     ]
    }
   ],
   "source": [
    "model_Inc_FT.save('tmp/saved_models/Inception_1_FT')"
   ]
  },
  {
   "cell_type": "markdown",
   "metadata": {},
   "source": [
    "#### Plots"
   ]
  },
  {
   "cell_type": "markdown",
   "metadata": {},
   "source": [
    "The plot below shows the training and validation loss of each epoch when fine-tuning the model. We see that both training and validation loss decreases rapidly from the initial training, however by the fourth epoch the plots begin to diverge. The training loss continues to improve while the performance of the validation data varies greatly between each epoch. This indicates the model was most likely beginning to overfit to the training data."
   ]
  },
  {
   "cell_type": "code",
   "execution_count": 265,
   "metadata": {},
   "outputs": [
    {
     "data": {
      "image/png": "[encoded data removed]",
      "text/plain": [
       "<Figure size 576x288 with 1 Axes>"
      ]
     },
     "metadata": {
      "needs_background": "light"
     },
     "output_type": "display_data"
    }
   ],
   "source": [
    "history_plot(model_Inc_FT_history)"
   ]
  },
  {
   "cell_type": "markdown",
   "metadata": {},
   "source": [
    "Below shows the confusion matrix from the final results of the fine-tuning step. We see that all but one (or 99.1%) of the COVID19 records were classified correctly. For the PNEUMONIA class 92.3% of the records were correctly classified. Most of the incorrectly classified records were wrongly predicted to be NORMAL instead of PNEUMONIA.  The NORMAL class was only properly predicted 69.7% of the time. Taken together, these results indicate that the model as a diagnostic tool is more likely to return false-positives for illnesses than false-negatives, which--as stated earlier--is what we would prefer."
   ]
  },
  {
   "cell_type": "code",
   "execution_count": 267,
   "metadata": {},
   "outputs": [
    {
     "data": {
      "image/png": "[encoded data removed]",
      "text/plain": [
       "<Figure size 432x288 with 2 Axes>"
      ]
     },
     "metadata": {
      "needs_background": "light"
     },
     "output_type": "display_data"
    }
   ],
   "source": [
    "y_pred_Inc_FT = model_Inc_FT.predict(generator_test)\n",
    "cls_pred_Inc_FT = np.argmax(y_pred_Inc_FT,axis=1)\n",
    "print_confusion_matrix(cls_pred_Inc_FT)"
   ]
  },
  {
   "cell_type": "markdown",
   "metadata": {},
   "source": [
    "## ResNet Model"
   ]
  },
  {
   "cell_type": "markdown",
   "metadata": {},
   "source": [
    "The next framework used for transfer learning was ResNet101 V2. I set up the model in the same manner as the Inception V3 model with a Global Average Pooling layer and a Dropout layer."
   ]
  },
  {
   "cell_type": "markdown",
   "metadata": {},
   "source": [
    "### Base Model"
   ]
  },
  {
   "cell_type": "code",
   "execution_count": 78,
   "metadata": {},
   "outputs": [],
   "source": [
    "base_model_ResNet = ResNet101V2(\n",
    "    input_shape=(256,256,3), \n",
    "    weights='imagenet', \n",
    "    include_top=False\n",
    "    )\n",
    "\n",
    "base_model_ResNet.trainable = False"
   ]
  },
  {
   "cell_type": "markdown",
   "metadata": {},
   "source": [
    "### Preprocess"
   ]
  },
  {
   "cell_type": "code",
   "execution_count": 79,
   "metadata": {},
   "outputs": [],
   "source": [
    "inputs_ResNet = Input(shape=(256, 256,3))\n",
    "\n",
    "inputs_p_ResNet = ResNet_preprocess(inputs_ResNet)"
   ]
  },
  {
   "cell_type": "markdown",
   "metadata": {},
   "source": [
    "### Add output layers & Compile"
   ]
  },
  {
   "cell_type": "code",
   "execution_count": 270,
   "metadata": {},
   "outputs": [],
   "source": [
    "base_ResNet = base_model_ResNet(inputs_p_ResNet, training=False)\n",
    "GAP_ResNet = GlobalAveragePooling2D()(base_ResNet)\n",
    "drop_ResNet = Dropout(0.5)(GAP_ResNet)\n",
    "\n",
    "output_ResNet = Dense(num_classes, activation='softmax')(drop_ResNet)\n",
    "model_ResNet = Model(inputs_ResNet, output_ResNet)"
   ]
  },
  {
   "cell_type": "code",
   "execution_count": 271,
   "metadata": {},
   "outputs": [],
   "source": [
    "model_ResNet.compile(loss='categorical_crossentropy',\n",
    "                optimizer='adam',\n",
    "                metrics=[f1])"
   ]
  },
  {
   "cell_type": "markdown",
   "metadata": {},
   "source": [
    "The summary below indicates 42,626,560 parameters in the base model and 6,147 trainable parameters in the final layer. "
   ]
  },
  {
   "cell_type": "code",
   "execution_count": 272,
   "metadata": {},
   "outputs": [
    {
     "name": "stdout",
     "output_type": "stream",
     "text": [
      "Model: \"functional_19\"\n",
      "_________________________________________________________________\n",
      "Layer (type)                 Output Shape              Param #   \n",
      "=================================================================\n",
      "input_20 (InputLayer)        [(None, 256, 256, 3)]     0         \n",
      "_________________________________________________________________\n",
      "tf_op_layer_RealDiv_6 (Tenso [(None, 256, 256, 3)]     0         \n",
      "_________________________________________________________________\n",
      "tf_op_layer_Sub_6 (TensorFlo [(None, 256, 256, 3)]     0         \n",
      "_________________________________________________________________\n",
      "resnet101v2 (Functional)     (None, 8, 8, 2048)        42626560  \n",
      "_________________________________________________________________\n",
      "global_average_pooling2d_7 ( (None, 2048)              0         \n",
      "_________________________________________________________________\n",
      "dropout_10 (Dropout)         (None, 2048)              0         \n",
      "_________________________________________________________________\n",
      "dense_10 (Dense)             (None, 3)                 6147      \n",
      "=================================================================\n",
      "Total params: 42,632,707\n",
      "Trainable params: 6,147\n",
      "Non-trainable params: 42,626,560\n",
      "_________________________________________________________________\n"
     ]
    }
   ],
   "source": [
    "model_ResNet.summary()"
   ]
  },
  {
   "cell_type": "code",
   "execution_count": 124,
   "metadata": {},
   "outputs": [],
   "source": [
    "#reset_weights(model_ResNet)"
   ]
  },
  {
   "cell_type": "markdown",
   "metadata": {},
   "source": [
    "### Fit Model"
   ]
  },
  {
   "cell_type": "markdown",
   "metadata": {},
   "source": [
    "#### Fit"
   ]
  },
  {
   "cell_type": "code",
   "execution_count": 273,
   "metadata": {},
   "outputs": [
    {
     "name": "stdout",
     "output_type": "stream",
     "text": [
      "Epoch 1/30\n",
      "178/178 [==============================] - 3227s 18s/step - loss: 1.0730 - f1: 0.1843 - val_loss: 0.9068 - val_f1: 0.1362\n",
      "Epoch 2/30\n",
      "178/178 [==============================] - 3171s 18s/step - loss: 0.9216 - f1: 0.2647 - val_loss: 0.9343 - val_f1: 0.2742\n",
      "Epoch 3/30\n",
      "178/178 [==============================] - 3266s 18s/step - loss: 0.8675 - f1: 0.3319 - val_loss: 0.9316 - val_f1: 0.3330\n",
      "Epoch 4/30\n",
      "178/178 [==============================] - 3304s 19s/step - loss: 0.8360 - f1: 0.3779 - val_loss: 0.7887 - val_f1: 0.6060\n",
      "Epoch 5/30\n",
      "178/178 [==============================] - 3320s 19s/step - loss: 0.8151 - f1: 0.4257 - val_loss: 0.8398 - val_f1: 0.4075\n",
      "Epoch 6/30\n",
      "178/178 [==============================] - 3279s 18s/step - loss: 0.7882 - f1: 0.4502 - val_loss: 0.8551 - val_f1: 0.4462\n",
      "Epoch 7/30\n",
      "178/178 [==============================] - 3301s 19s/step - loss: 0.7811 - f1: 0.4657 - val_loss: 0.7802 - val_f1: 0.6078\n",
      "Epoch 8/30\n",
      "178/178 [==============================] - 3287s 18s/step - loss: 0.7631 - f1: 0.4941 - val_loss: 0.7917 - val_f1: 0.5742\n",
      "Epoch 9/30\n",
      "178/178 [==============================] - 3437s 19s/step - loss: 0.7548 - f1: 0.5124 - val_loss: 0.7487 - val_f1: 0.6849\n",
      "Epoch 10/30\n",
      "178/178 [==============================] - 3576s 20s/step - loss: 0.7325 - f1: 0.5414 - val_loss: 0.7910 - val_f1: 0.5718\n",
      "Epoch 11/30\n",
      "178/178 [==============================] - 3505s 20s/step - loss: 0.7421 - f1: 0.5285 - val_loss: 0.7395 - val_f1: 0.6796\n",
      "Epoch 12/30\n",
      "178/178 [==============================] - 3060s 17s/step - loss: 0.7262 - f1: 0.5440 - val_loss: 0.7556 - val_f1: 0.6984\n",
      "Epoch 13/30\n",
      "178/178 [==============================] - 3155s 18s/step - loss: 0.7231 - f1: 0.5606 - val_loss: 0.7430 - val_f1: 0.6723\n",
      "Epoch 14/30\n",
      "178/178 [==============================] - 3240s 18s/step - loss: 0.7092 - f1: 0.5659 - val_loss: 0.7736 - val_f1: 0.6226\n",
      "Epoch 15/30\n",
      "178/178 [==============================] - 3234s 18s/step - loss: 0.7162 - f1: 0.5719 - val_loss: 0.7303 - val_f1: 0.7029\n",
      "Epoch 16/30\n",
      "178/178 [==============================] - 3229s 18s/step - loss: 0.7103 - f1: 0.5691 - val_loss: 0.7281 - val_f1: 0.7043\n",
      "Epoch 17/30\n",
      "178/178 [==============================] - 3242s 18s/step - loss: 0.7130 - f1: 0.5700 - val_loss: 0.7479 - val_f1: 0.6644\n",
      "Epoch 18/30\n",
      "178/178 [==============================] - 3257s 18s/step - loss: 0.6991 - f1: 0.5784 - val_loss: 0.7709 - val_f1: 0.6064\n",
      "Epoch 19/30\n",
      "178/178 [==============================] - 3255s 18s/step - loss: 0.6940 - f1: 0.5891 - val_loss: 0.6858 - val_f1: 0.7435\n",
      "Epoch 20/30\n",
      "178/178 [==============================] - 3250s 18s/step - loss: 0.7018 - f1: 0.5923 - val_loss: 0.6978 - val_f1: 0.7291\n",
      "Epoch 21/30\n",
      "178/178 [==============================] - 3260s 18s/step - loss: 0.6846 - f1: 0.5911 - val_loss: 0.7148 - val_f1: 0.7219\n",
      "Epoch 22/30\n",
      "178/178 [==============================] - 7132s 40s/step - loss: 0.6803 - f1: 0.6020 - val_loss: 0.7021 - val_f1: 0.7135\n",
      "Epoch 23/30\n",
      "178/178 [==============================] - 9301s 52s/step - loss: 0.6930 - f1: 0.5952 - val_loss: 0.7017 - val_f1: 0.7297\n",
      "Epoch 24/30\n",
      "178/178 [==============================] - 4125s 23s/step - loss: 0.6864 - f1: 0.5929 - val_loss: 0.6753 - val_f1: 0.7452\n",
      "Epoch 25/30\n",
      "178/178 [==============================] - 4073s 23s/step - loss: 0.6799 - f1: 0.5903 - val_loss: 0.7111 - val_f1: 0.7071\n",
      "Epoch 26/30\n",
      "178/178 [==============================] - 4050s 23s/step - loss: 0.6791 - f1: 0.6025 - val_loss: 0.6732 - val_f1: 0.7448\n",
      "Epoch 27/30\n",
      "178/178 [==============================] - 4012s 23s/step - loss: 0.6804 - f1: 0.6114 - val_loss: 0.6947 - val_f1: 0.7342\n",
      "Epoch 28/30\n",
      "178/178 [==============================] - 4122s 23s/step - loss: 0.6552 - f1: 0.6286 - val_loss: 0.7121 - val_f1: 0.7225\n",
      "Epoch 29/30\n",
      "178/178 [==============================] - 4314s 24s/step - loss: 0.6699 - f1: 0.6151 - val_loss: 0.6913 - val_f1: 0.7283\n",
      "Epoch 30/30\n",
      "178/178 [==============================] - 4664s 26s/step - loss: 0.6655 - f1: 0.6149 - val_loss: 0.6577 - val_f1: 0.7593\n"
     ]
    }
   ],
   "source": [
    "model_ResNet_history = model_ResNet.fit(\n",
    "    generator_train, \n",
    "    epochs=30, \n",
    "    batch_size=128,\n",
    "    class_weight=class_weight, \n",
    "    validation_data=generator_test,\n",
    "    callbacks=[earlystop_5], \n",
    "    verbose=1)"
   ]
  },
  {
   "cell_type": "code",
   "execution_count": 274,
   "metadata": {},
   "outputs": [
    {
     "name": "stdout",
     "output_type": "stream",
     "text": [
      "INFO:tensorflow:Assets written to: tmp/saved_models/ResNet_1\\assets\n"
     ]
    }
   ],
   "source": [
    "model_ResNet.save('tmp/saved_models/ResNet_1')"
   ]
  },
  {
   "cell_type": "markdown",
   "metadata": {},
   "source": [
    "#### Plots"
   ]
  },
  {
   "cell_type": "markdown",
   "metadata": {},
   "source": [
    "The learning resulted in a validation loss of 0.6577 and an f1 score of 0.7593. The plot below shows the progress of the loss functions throughout the training. We see that the both loss functions had a larger decrease in the first five epochs than in subsequent ones, however neither plot appears to flatten out indicating that additional epochs may provide an improvement over what was achieved in 30 epochs. "
   ]
  },
  {
   "cell_type": "code",
   "execution_count": 275,
   "metadata": {},
   "outputs": [
    {
     "data": {
      "image/png": "[encoded data removed]",
      "text/plain": [
       "<Figure size 576x288 with 1 Axes>"
      ]
     },
     "metadata": {
      "needs_background": "light"
     },
     "output_type": "display_data"
    }
   ],
   "source": [
    "history_plot(model_ResNet_history)"
   ]
  },
  {
   "cell_type": "code",
   "execution_count": 276,
   "metadata": {},
   "outputs": [],
   "source": [
    "y_pred_ResNet = model_ResNet.predict(generator_test)\n",
    "cls_pred_ResNet = np.argmax(y_pred_ResNet,axis=1)"
   ]
  },
  {
   "cell_type": "code",
   "execution_count": 277,
   "metadata": {},
   "outputs": [
    {
     "data": {
      "image/png": "[encoded data removed]",
      "text/plain": [
       "<Figure size 432x288 with 2 Axes>"
      ]
     },
     "metadata": {
      "needs_background": "light"
     },
     "output_type": "display_data"
    }
   ],
   "source": [
    "print_confusion_matrix(cls_pred_ResNet)"
   ]
  },
  {
   "cell_type": "markdown",
   "metadata": {},
   "source": [
    "### Fine-Tune Model"
   ]
  },
  {
   "cell_type": "markdown",
   "metadata": {},
   "source": [
    "The model was then fine-tuned using the same methodology as with Inception V3."
   ]
  },
  {
   "cell_type": "markdown",
   "metadata": {},
   "source": [
    "#### Make Trainable"
   ]
  },
  {
   "cell_type": "code",
   "execution_count": 76,
   "metadata": {},
   "outputs": [],
   "source": [
    "model_ResNet = load_model('tmp/saved_models/ResNet_1', custom_objects={'f1':f1})"
   ]
  },
  {
   "cell_type": "code",
   "execution_count": 75,
   "metadata": {},
   "outputs": [],
   "source": [
    "csv_log_ResNet_FT = CSVLogger('training_ResNet_FT.log', separator=',', append=False)"
   ]
  },
  {
   "cell_type": "code",
   "execution_count": 80,
   "metadata": {},
   "outputs": [],
   "source": [
    "base_model_ResNet.trainable = True\n",
    "\n",
    "model_ResNet_FT = model_ResNet\n",
    "\n",
    "model_ResNet_FT.compile(loss='categorical_crossentropy',\n",
    "                optimizer=Adam(1e-5),\n",
    "                metrics=[f1])"
   ]
  },
  {
   "cell_type": "markdown",
   "metadata": {},
   "source": [
    "#### Fit"
   ]
  },
  {
   "cell_type": "code",
   "execution_count": 81,
   "metadata": {},
   "outputs": [
    {
     "name": "stdout",
     "output_type": "stream",
     "text": [
      "Epoch 1/30\n",
      "178/178 [==============================] - 7217s 41s/step - loss: 0.6072 - f1: 0.6752 - val_loss: 0.5288 - val_f1: 0.7887\n",
      "Epoch 2/30\n",
      "178/178 [==============================] - 7036s 40s/step - loss: 0.3930 - f1: 0.8064 - val_loss: 0.3955 - val_f1: 0.8474\n",
      "Epoch 3/30\n",
      "178/178 [==============================] - 6848s 38s/step - loss: 0.3061 - f1: 0.8505 - val_loss: 0.3812 - val_f1: 0.8475\n",
      "Epoch 4/30\n",
      "178/178 [==============================] - 6681s 38s/step - loss: 0.2936 - f1: 0.8615 - val_loss: 0.4405 - val_f1: 0.8458\n",
      "Epoch 5/30\n",
      "178/178 [==============================] - 6641s 37s/step - loss: 0.2257 - f1: 0.8904 - val_loss: 0.3543 - val_f1: 0.8547\n",
      "Epoch 6/30\n",
      "178/178 [==============================] - 6532s 37s/step - loss: 0.2116 - f1: 0.8992 - val_loss: 0.3391 - val_f1: 0.8778\n",
      "Epoch 7/30\n",
      "178/178 [==============================] - 6551s 37s/step - loss: 0.2140 - f1: 0.9051 - val_loss: 0.4015 - val_f1: 0.8275\n",
      "Epoch 8/30\n",
      "178/178 [==============================] - 6559s 37s/step - loss: 0.1862 - f1: 0.9148 - val_loss: 0.3882 - val_f1: 0.8603\n",
      "Epoch 9/30\n",
      "178/178 [==============================] - 6504s 37s/step - loss: 0.1793 - f1: 0.9125 - val_loss: 0.3519 - val_f1: 0.8538\n",
      "Epoch 10/30\n",
      "178/178 [==============================] - 6514s 37s/step - loss: 0.1455 - f1: 0.9313 - val_loss: 0.3283 - val_f1: 0.8669\n",
      "Epoch 11/30\n",
      "178/178 [==============================] - 9126s 51s/step - loss: 0.1604 - f1: 0.9255 - val_loss: 0.3752 - val_f1: 0.8661\n",
      "Epoch 12/30\n",
      "178/178 [==============================] - 10986s 62s/step - loss: 0.1651 - f1: 0.9205 - val_loss: 0.2576 - val_f1: 0.9052\n",
      "Epoch 13/30\n",
      "178/178 [==============================] - 8710s 49s/step - loss: 0.1531 - f1: 0.9265 - val_loss: 0.6729 - val_f1: 0.8075\n",
      "Epoch 14/30\n",
      "178/178 [==============================] - 7279s 41s/step - loss: 0.1462 - f1: 0.9305 - val_loss: 0.4596 - val_f1: 0.8334\n",
      "Epoch 15/30\n",
      "178/178 [==============================] - 5724s 32s/step - loss: 0.1543 - f1: 0.9302 - val_loss: 0.2793 - val_f1: 0.8926\n",
      "Epoch 16/30\n",
      "178/178 [==============================] - 7661s 43s/step - loss: 0.1270 - f1: 0.9423 - val_loss: 0.2597 - val_f1: 0.8998\n",
      "Epoch 17/30\n",
      "178/178 [==============================] - ETA: 0s - loss: 0.1286 - f1: 0.9385  Restoring model weights from the end of the best epoch.\n",
      "178/178 [==============================] - 11173s 63s/step - loss: 0.1286 - f1: 0.9385 - val_loss: 0.2799 - val_f1: 0.9035\n",
      "Epoch 00017: early stopping\n"
     ]
    }
   ],
   "source": [
    "model_ResNet_FT_history = model_ResNet_FT.fit(\n",
    "    generator_train, \n",
    "    epochs=30, \n",
    "    batch_size=128,\n",
    "    class_weight=class_weight, \n",
    "    validation_data=generator_test,\n",
    "    callbacks=[earlystop_5],\n",
    "    verbose=1)"
   ]
  },
  {
   "cell_type": "code",
   "execution_count": 82,
   "metadata": {},
   "outputs": [
    {
     "name": "stdout",
     "output_type": "stream",
     "text": [
      "INFO:tensorflow:Assets written to: tmp/saved_models/ResNet_1_FT\\assets\n"
     ]
    }
   ],
   "source": [
    "model_ResNet_FT.save('tmp/saved_models/ResNet_1_FT')"
   ]
  },
  {
   "cell_type": "markdown",
   "metadata": {},
   "source": [
    "#### Plots"
   ]
  },
  {
   "cell_type": "markdown",
   "metadata": {},
   "source": [
    "The history chart shows early stopping was triggered. Both training and validation loss continued to decrease until epoch 12 when validation loss had a sharp increase. In subsequent epochs validation loss never fell back to the score it achieved in epoch 11, which indicates the training got to a point where it was overfitting to the training data. The best score achieved was a validation loss of 0.2576 and an f1 score of 0.9052."
   ]
  },
  {
   "cell_type": "code",
   "execution_count": 83,
   "metadata": {},
   "outputs": [
    {
     "data": {
      "image/png": "[encoded data removed]",
      "text/plain": [
       "<Figure size 576x288 with 1 Axes>"
      ]
     },
     "metadata": {
      "needs_background": "light"
     },
     "output_type": "display_data"
    }
   ],
   "source": [
    "history_plot(model_ResNet_FT_history)"
   ]
  },
  {
   "cell_type": "markdown",
   "metadata": {},
   "source": [
    "The confusion matrix below shows the model predicted every true positive for the COVID19 class correctly. It predicted 93.3% of the true positives for PNEUMONIA correctly. For the NORMAL class, 81.2% were predicted correctly. These results indicate that the model is more likely to predict false-positives for COVID19 and PNEUMONIA rather than to miss true positives for either. Again, in a clinical setting, one would prefer to have the errors skew more towards false positives than false negatives."
   ]
  },
  {
   "cell_type": "code",
   "execution_count": 84,
   "metadata": {},
   "outputs": [
    {
     "data": {
      "image/png": "[encoded data removed]",
      "text/plain": [
       "<Figure size 432x288 with 2 Axes>"
      ]
     },
     "metadata": {
      "needs_background": "light"
     },
     "output_type": "display_data"
    }
   ],
   "source": [
    "y_pred_ResNet_FT = model_ResNet_FT.predict(generator_test)\n",
    "cls_pred_ResNet_FT = np.argmax(y_pred_ResNet_FT,axis=1)\n",
    "print_confusion_matrix(cls_pred_ResNet_FT)"
   ]
  },
  {
   "cell_type": "markdown",
   "metadata": {},
   "source": [
    "## Conclusion"
   ]
  },
  {
   "cell_type": "markdown",
   "metadata": {},
   "source": [
    "Comparing the performance of the three models, the ResNet101 V2 model had the lowest validation loss and the highest f1 score, though the performance Inception V3 was only slightly worse than that of ResNet101 V2. The ResNet model had recall scores of 100% and 93.3% for the COVID19 and PNEUMONIA classes respectively, indicating a low likelihood of the model predicting a false-negative of either class. The precision of the predictions was 89.8% and 91.7% respectively. This indicates that there is roughly a 10% likelihood of returning false-positive predictions for both classes. \n",
    "\n",
    "In a clinical setting, one would want to err on the side of providing a diagnosis in instances where the patient is normal than the side of not providing a diagnosis when the patient has a malady such as the classes in these models. Therefore we would give more weight to false-negatives than false-positives in assessing how much error we are comfortable with. To that end, this model may be quite useful for diagnosing COVID19, but the false-negatives associated with the PNEUMONIA class may need to be reduced in order for the model to be used for that diagnosis."
   ]
  }
 ],
 "metadata": {
  "kernelspec": {
   "display_name": "Python 3.8.12 ('base')",
   "language": "python",
   "name": "python3"
  },
  "language_info": {
   "codemirror_mode": {
    "name": "ipython",
    "version": 3
   },
   "file_extension": ".py",
   "mimetype": "text/x-python",
   "name": "python",
   "nbconvert_exporter": "python",
   "pygments_lexer": "ipython3",
   "version": "3.8.12"
  },
  "orig_nbformat": 4,
  "vscode": {
   "interpreter": {
    "hash": "fc102678300ec9a0833037ad4d64b87b4843783654590d7dc91d4409bd728a4c"
   }
  }
 },
 "nbformat": 4,
 "nbformat_minor": 2
}
